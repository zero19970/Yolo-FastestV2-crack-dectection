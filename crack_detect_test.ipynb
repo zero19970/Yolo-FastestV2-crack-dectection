{
 "cells": [
  {
   "cell_type": "code",
   "execution_count": 2,
   "metadata": {},
   "outputs": [
    {
     "name": "stdout",
     "output_type": "stream",
     "text": [
      "load param...\n",
      "forward time:1553.788976ms\n",
      "/cache/lichenghang/anaconda3/envs/clam/lib/python3.7/site-packages/torch/functional.py:478: UserWarning: torch.meshgrid: in an upcoming release, it will be required to pass the indexing argument. (Triggered internally at  ../aten/src/ATen/native/TensorShape.cpp:2894.)\n",
      "  return _VF.meshgrid(tensors, **kwargs)  # type: ignore[attr-defined]\n"
     ]
    }
   ],
   "source": [
    "!python3 test.py --data data/coco.data --weights modelzoo/coco2017-0.241078ap-model.pth --img img/000139.jpg"
   ]
  },
  {
   "cell_type": "code",
   "execution_count": 8,
   "metadata": {},
   "outputs": [
    {
     "name": "stdout",
     "output_type": "stream",
     "text": [
      "load param...\n",
      "forward time:1315.183205ms\n",
      "/cache/lichenghang/anaconda3/envs/clam/lib/python3.7/site-packages/torch/functional.py:478: UserWarning: torch.meshgrid: in an upcoming release, it will be required to pass the indexing argument. (Triggered internally at  ../aten/src/ATen/native/TensorShape.cpp:2894.)\n",
      "  return _VF.meshgrid(tensors, **kwargs)  # type: ignore[attr-defined]\n"
     ]
    }
   ],
   "source": [
    "!python3 test.py --data datasets/WorkpieceCrack2/workpiece.data --weights /cache/lichenghang/project/Yolo-FastestV2/weights/workpiece-290-epoch-0.788198ap-model.pth --img /cache/lichenghang/project/Yolo-FastestV2/img/sample0_crack.png"
   ]
  },
  {
   "cell_type": "code",
   "execution_count": 9,
   "metadata": {},
   "outputs": [
    {
     "name": "stdout",
     "output_type": "stream",
     "text": [
      "load param...\n",
      "forward time:1600.047942ms\n",
      "/cache/lichenghang/anaconda3/envs/clam/lib/python3.7/site-packages/torch/functional.py:478: UserWarning: torch.meshgrid: in an upcoming release, it will be required to pass the indexing argument. (Triggered internally at  ../aten/src/ATen/native/TensorShape.cpp:2894.)\n",
      "  return _VF.meshgrid(tensors, **kwargs)  # type: ignore[attr-defined]\n"
     ]
    }
   ],
   "source": [
    "!python3 test.py --data datasets/WorkpieceCrack2/workpiece.data --weights /cache/lichenghang/project/Yolo-FastestV2/weights/workpiece-290-epoch-0.788198ap-model.pth --img /cache/lichenghang/project/Yolo-FastestV2/img/sample11_crack.png"
   ]
  },
  {
   "cell_type": "code",
   "execution_count": 14,
   "metadata": {},
   "outputs": [
    {
     "name": "stdout",
     "output_type": "stream",
     "text": [
      "load param...\n",
      "forward time:1313.946074ms\n",
      "/cache/lichenghang/anaconda3/envs/clam/lib/python3.7/site-packages/torch/functional.py:478: UserWarning: torch.meshgrid: in an upcoming release, it will be required to pass the indexing argument. (Triggered internally at  ../aten/src/ATen/native/TensorShape.cpp:2894.)\n",
      "  return _VF.meshgrid(tensors, **kwargs)  # type: ignore[attr-defined]\n"
     ]
    }
   ],
   "source": [
    "!python3 test.py --data datasets/WorkpieceCrack2/workpiece.data --weights /cache/lichenghang/project/Yolo-FastestV2/weights/workpiece-290-epoch-0.788198ap-model.pth --img /cache/lichenghang/project/Yolo-FastestV2/img/sample1_intact.png"
   ]
  },
  {
   "cell_type": "code",
   "execution_count": 7,
   "metadata": {},
   "outputs": [],
   "source": [
    "import os\n",
    "\n",
    "file_dir = \"/cache/lichenghang/project/Yolo-FastestV2/datasets/WorkpieceCrack2/train/images\"\n",
    "for file_name in os.listdir(file_dir):\n",
    "    full_path = os.path.join(file_dir, file_name)\n",
    "    rename_path = full_path.replace(\"_png_jpg.rf.\", \"_\")\n",
    "    rename_path = rename_path.replace(\"_png.rf.\", \"_\")\n",
    "    os.rename(full_path, rename_path)"
   ]
  },
  {
   "cell_type": "code",
   "execution_count": null,
   "metadata": {},
   "outputs": [],
   "source": []
  },
  {
   "cell_type": "markdown",
   "metadata": {},
   "source": []
  },
  {
   "cell_type": "code",
   "execution_count": null,
   "metadata": {},
   "outputs": [],
   "source": []
  }
 ],
 "metadata": {
  "kernelspec": {
   "display_name": "clam",
   "language": "python",
   "name": "python3"
  },
  "language_info": {
   "codemirror_mode": {
    "name": "ipython",
    "version": 3
   },
   "file_extension": ".py",
   "mimetype": "text/x-python",
   "name": "python",
   "nbconvert_exporter": "python",
   "pygments_lexer": "ipython3",
   "version": "3.7.7"
  }
 },
 "nbformat": 4,
 "nbformat_minor": 2
}
